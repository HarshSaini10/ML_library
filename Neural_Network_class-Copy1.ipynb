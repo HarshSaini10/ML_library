{
 "cells": [
  {
   "cell_type": "code",
   "execution_count": 1,
   "id": "270e22ca-90f2-4aa2-96f4-dcd56a4df106",
   "metadata": {},
   "outputs": [],
   "source": [
    "import numpy as np\n",
    "import pandas as pd\n",
    "import matplotlib.pyplot as plt"
   ]
  },
  {
   "cell_type": "code",
   "execution_count": 133,
   "id": "7e9be528-9d67-45f6-b6ff-eb74c9b14691",
   "metadata": {},
   "outputs": [],
   "source": [
    "class Neural_Network:\n",
    "    def __init__(self,data,r1,r2,layer_dims):\n",
    "        data=data.sample(frac=1).reset_index(drop=True)\n",
    "\n",
    "        self.r1=r1\n",
    "        self.r2=r2\n",
    "        \n",
    "        l1=int(self.r1*data.shape[0])\n",
    "        self.X_train=data.iloc[0:l1,1:].to_numpy().T\n",
    "        self.y_train=data.iloc[0:l1,0].to_numpy()\n",
    "        self.X_train=self.X_train/255\n",
    "        \n",
    "        l2=int((self.r1+self.r2)*data.shape[0])\n",
    "        self.X_cv=data.iloc[l1:l2,1:].to_numpy().T\n",
    "        self.y_cv=data.iloc[l1:l2,0].to_numpy()\n",
    "        self.X_cv=self.X_cv/255\n",
    "        \n",
    "        self.X_test=data.iloc[l2:,1:].to_numpy().T\n",
    "        self.y_test=data.iloc[l2:,0].to_numpy()\n",
    "        self.X_test=self.X_test/255\n",
    "\n",
    "        self.y_train_encoded=self.one_hot_encoding(self.y_train)\n",
    "        self.y_cv_encoded=self.one_hot_encoding(self.y_cv)\n",
    "        self.y_test_encoded=self.one_hot_encoding(self.y_test)\n",
    "        \n",
    "        self.layer_dims=layer_dims\n",
    "\n",
    "        self.initialize_parameters()\n",
    "\n",
    "        self.v={}\n",
    "        for l in range(1,len(self.layer_dims)):\n",
    "            self.v[\"dW\"+str(l)]=np.zeros((self.layer_dims[l],self.layer_dims[l-1]))\n",
    "            self.v[\"db\"+str(l)]=np.zeros((self.layer_dims[l],1))\n",
    "\n",
    "        self.s={}\n",
    "        for l in range(1,len(self.layer_dims)):\n",
    "            self.s[\"dW\"+str(l)]=np.zeros((self.layer_dims[l],self.layer_dims[l-1]))\n",
    "            self.s[\"db\"+str(l)]=np.zeros((self.layer_dims[l],1))\n",
    "\n",
    "    def one_hot_encoding(self,y):\n",
    "        num_cat=len(np.unique(y))\n",
    "        y_new=np.zeros((len(y),num_cat))\n",
    "        for i in range(len(y)):\n",
    "            j=int(y[i])\n",
    "            y_new[i,j]+=1\n",
    "        return y_new.T\n",
    "\n",
    "    def initialize_parameters(self):\n",
    "        self.parameters={}\n",
    "        for l in range(1,len(self.layer_dims)):\n",
    "            self.parameters[\"W\"+str(l)]=np.random.randn(self.layer_dims[l],self.layer_dims[l-1])*np.sqrt(2/self.layer_dims[l])\n",
    "            self.parameters[\"b\"+str(l)]=np.zeros((self.layer_dims[l],1))\n",
    "        return self.parameters\n",
    "\n",
    "    def relu_activation(self,Z):\n",
    "        A=np.maximum(0,Z)\n",
    "        return A\n",
    "\n",
    "    def softmax_activation(self,Z):\n",
    "        e_Z=np.exp(Z-np.max(Z,axis=0,keepdims=True))\n",
    "        A=e_Z/np.sum(e_Z,axis=0,keepdims=True)\n",
    "        return A\n",
    "\n",
    "    def forward_activation(self,A_prev,W,b,activation):\n",
    "        Z=np.dot(W,A_prev)+b\n",
    "        cache1=(A_prev,W,b)\n",
    "        cache2=(Z)\n",
    "        if(activation==\"relu\"):\n",
    "            A=self.relu_activation(Z)\n",
    "        elif(activation==\"softmax\"):\n",
    "            A=self.softmax_activation(Z)\n",
    "            \n",
    "        cache=(cache1,cache2)\n",
    "        return A,cache\n",
    "\n",
    "    def forward_prop(self,X):\n",
    "        caches=[]\n",
    "        A=X\n",
    "        L=len(self.parameters)//2\n",
    "        for l in range(1,L):\n",
    "            A_prev=A\n",
    "            W_l=self.parameters[\"W\"+str(l)]\n",
    "            b_l=self.parameters[\"b\"+str(l)]\n",
    "            A,temp_cache=self.forward_activation(A_prev,W_l,b_l,\"relu\")\n",
    "            caches.append(temp_cache)\n",
    "        WL=self.parameters[\"W\"+str(L)]\n",
    "        bL=self.parameters[\"b\"+str(L)]\n",
    "        AL,cache_L=self.forward_activation(A,WL,bL,\"softmax\")\n",
    "        caches.append(cache_L)\n",
    "        # AL=np.clip(AL,1e-7,1-1e-7)\n",
    "        return AL,caches\n",
    "\n",
    "    def sparse_categorical_cross_entropy(self,AL,Y):\n",
    "        loss=np.multiply(np.log(AL),Y)\n",
    "        cost=-np.sum(loss)/Y.shape[1]\n",
    "        for w in [self.parameters[\"W\"+str(l)] for l in range(1,len(self.parameters)//2+1)]:\n",
    "            cost+=self.lambda_*(np.linalg.norm(w,ord='fro')**2)/(2*Y.shape[1])\n",
    "        return cost\n",
    "\n",
    "    def activation_backward(self,dA,cache,activation,Y):\n",
    "        cache1,cache2=cache\n",
    "        A_prev,W,b=cache1\n",
    "        Z=cache2\n",
    "        if(activation==\"relu\"):\n",
    "            dZ=np.zeros((Z.shape))\n",
    "            dZ=np.multiply((Z>0)*1,dA)\n",
    "            # dZ[np.where(Z>0)]=np.multiply(dA[np.where(Z>0)],1)\n",
    "            # dZ[np.where(Z<=0)]=np.multiply(dA[np.where(Z<=0)],0)\n",
    "            dW=np.dot(dZ,A_prev.T)/A_prev.shape[1]\n",
    "            db=np.sum(dZ,axis=1,keepdims=True)/A_prev.shape[1]\n",
    "            dA_prev=np.dot(W.T,dZ)\n",
    "        elif(activation==\"softmax\"):\n",
    "            A=self.softmax_activation(Z)\n",
    "            dZ=A-Y\n",
    "            dW=np.dot(dZ,A_prev.T)/A_prev.shape[1]\n",
    "            db=np.sum(dZ,axis=1,keepdims=True)/A_prev.shape[1]\n",
    "            dA_prev=np.dot(W.T,dZ)\n",
    "            \n",
    "        return dA_prev,dW,db\n",
    "\n",
    "    def backward_prop(self,X,Y,caches):\n",
    "        self.gradients={}\n",
    "        m=X.shape[1]\n",
    "        L=len(caches) #list ke andar L tuples\n",
    "        # dAL=-np.divide(Y,AL)+np.divide((1-Y),(1-AL))\n",
    "        dAL=0\n",
    "        cache_L=caches[L-1]\n",
    "        W_L=caches[L-1][0][1]\n",
    "        dA_prev_L,dW_L,db_L=self.activation_backward(dAL,cache_L,\"softmax\",Y)\n",
    "        self.gradients[\"dA\"+str(L-1)]=dA_prev_L\n",
    "        self.gradients[\"dW\"+str(L)]=dW_L +(self.lambda_*W_L/m)\n",
    "        self.gradients[\"db\"+str(L)]=db_L\n",
    "    \n",
    "        for l in reversed(range(L-1)):\n",
    "            cache_l =caches[l]\n",
    "            W_l=cache_l[0][1]\n",
    "            dA_prev_l, dW_l, db_l=self.activation_backward(self.gradients[\"dA\"+str(l+1)],cache_l,\"relu\",Y)\n",
    "            self.gradients[\"dA\" + str(l)] = dA_prev_l\n",
    "            self.gradients[\"dW\" + str(l + 1)]=dW_l+(self.lambda_*W_l/m)\n",
    "            self.gradients[\"db\" + str(l + 1)]=db_l \n",
    "\n",
    "    def gradient_descent(self):\n",
    "        L=len(self.parameters)//2\n",
    "        for l in range(L):\n",
    "            self.parameters[\"W\"+str(l+1)]-=self.alpha*self.gradients[\"dW\"+str(l+1)]\n",
    "            self.parameters[\"b\"+str(l+1)]-=self.alpha*self.gradients[\"db\"+str(l+1)]\n",
    "\n",
    "    def gradient_descent_with_momentum(self):\n",
    "        L=len(self.parameters)//2\n",
    "        for l in range(L):\n",
    "            self.v[\"dW\"+str(l+1)]=self.beta*(self.v[\"dW\"+str(l+1)])+(1-self.beta)*self.gradients[\"dW\"+str(l+1)]\n",
    "            self.v[\"db\"+str(l+1)]=self.beta*(self.v[\"db\"+str(l+1)])+(1-self.beta)*self.gradients[\"db\"+str(l+1)]\n",
    "\n",
    "            self.parameters[\"W\"+str(l+1)]=self.parameters[\"W\"+str(l+1)]-self.alpha*self.v[\"dW\"+str(l+1)]\n",
    "            self.parameters[\"b\"+str(l+1)]=self.parameters[\"b\"+str(l+1)]-self.alpha*self.v[\"db\"+str(l+1)]\n",
    "\n",
    "    def RMSprop(self):\n",
    "        L=len(self.parameters)//2\n",
    "        for l in range(L):\n",
    "            self.s[\"dW\"+str(l+1)]=self.beta*self.s[\"dW\"+str(l+1)]+(1-self.beta)*(self.gradients[\"dW\"+str(l+1)])\n",
    "            self.s[\"db\"+str(l+1)]=self.beta*self.s[\"db\"+str(l+1)]+(1-self.beta)*(self.gradients[\"db\"+str(l+1)])\n",
    "\n",
    "            self.parameters[\"W\"+str(l+1)]=self.parameters[\"W\"+str(l+1)]-self.alpha*self.s[\"dW\"+str(l+1)]\n",
    "            self.parameters[\"b\"+str(l+1)]=self.parameters[\"b\"+str(l+1)]-self.alpha*self.s[\"db\"+str(l+1)]\n",
    "            \n",
    "    def Adam(self,n):\n",
    "        L=len(self.parameters)//2\n",
    "        self.epsilon=1e-8\n",
    "        for l in range(L):\n",
    "            self.v[\"dW\"+str(l+1)]=self.beta1*self.v[\"dW\"+str(l+1)]+(1-self.beta1)*self.gradients[\"dW\"+str(l+1)]\n",
    "            # self.v[\"dW\"+str(l+1)]=self.v[\"dW\"+str(l+1)]/(1-self.beta1**n)\n",
    "\n",
    "            self.v[\"db\"+str(l+1)]=self.beta1*self.v[\"db\"+str(l+1)]+(1-self.beta1)*self.gradients[\"db\"+str(l+1)]\n",
    "            # self.v[\"db\"+str(l+1)]=self.v[\"db\"+str(l+1)]/(1-self.beta1**n)\n",
    "            \n",
    "            self.s[\"dW\"+str(l+1)]=self.beta2*self.s[\"dW\"+str(l+1)]+(1-self.beta2)*(self.gradients[\"dW\"+str(l+1)]**2)\n",
    "            # self.s[\"dW\"+str(l+1)]=self.s[\"dW\"+str(l+1)]/(1-self.beta2**n)\n",
    "\n",
    "            self.s[\"db\"+str(l+1)]=self.beta2*self.s[\"db\"+str(l+1)]+(1-self.beta2)*(self.gradients[\"db\"+str(l+1)]**2)\n",
    "            # self.s[\"db\"+str(l+1)]=self.s[\"db\"+str(l+1)]/(1-self.beta2**n)\n",
    "\n",
    "            self.parameters[\"W\"+str(l+1)]=self.parameters[\"W\"+str(l+1)]-self.alpha*(self.v[\"dW\"+str(l+1)]/(np.sqrt(self.s[\"dW\"+str(l+1)])+self.epsilon))\n",
    "            self.parameters[\"b\"+str(l+1)]=self.parameters[\"b\"+str(l+1)]-self.alpha*(self.v[\"db\"+str(l+1)]/(np.sqrt(self.s[\"db\"+str(l+1)])+self.epsilon))\n",
    "\n",
    "    def model(self,optimization,alpha,lambda_,alpha_decay,num_epochs,mini_batch_size):\n",
    "        self.J_hist=[]\n",
    "        self.alpha=alpha\n",
    "        self.lambda_=lambda_\n",
    "        self.alpha_decay=alpha_decay\n",
    "        self.num_epochs=num_epochs\n",
    "        self.mini_batch_size=mini_batch_size\n",
    "        \n",
    "        X=self.X_train\n",
    "        Y=self.y_train_encoded\n",
    "        \n",
    "        AL,caches=self.forward_prop(X)\n",
    "        initial_cost=self.sparse_categorical_cross_entropy(AL,Y)\n",
    "        print(f'Initial Cost: {initial_cost}')\n",
    "        self.J_hist.append(initial_cost)\n",
    "        optimizer=optimization[0]\n",
    "        \n",
    "        if(optimizer=='momentum'):\n",
    "            self.beta=optimization[1]\n",
    "        elif(optimizer=='RMSprop'):\n",
    "            self.beta=optimization[1]\n",
    "        elif(optimizer=='Adam'):\n",
    "            self.beta1=optimization[1]\n",
    "            self.beta2=optimization[2]\n",
    "            \n",
    "        num_complete_mini_batches=int(X.shape[1]/self.mini_batch_size)\n",
    "        \n",
    "        for i in range(self.num_epochs):\n",
    "            self.alpha=self.alpha/(1+self.alpha_decay*self.num_epochs)\n",
    "            for t in range(num_complete_mini_batches):\n",
    "                mini_batch_X=X[:,t*self.mini_batch_size:(t+1)*self.mini_batch_size]\n",
    "                mini_batch_Y=Y[:,t*self.mini_batch_size:(t+1)*self.mini_batch_size]\n",
    "                AL,caches=self.forward_prop(mini_batch_X)\n",
    "                cost=self.sparse_categorical_cross_entropy(AL,mini_batch_Y)\n",
    "                self.backward_prop(mini_batch_X,mini_batch_Y,caches)\n",
    "                if(optimizer=='gradient_descent'):\n",
    "                    self.gradient_descent()\n",
    "                elif(optimizer=='momentum'):\n",
    "                    self.gradient_descent_with_momentum()\n",
    "                elif(optimizer=='RMSprop'):\n",
    "                    self.RMSprop()\n",
    "                elif(optimizer=='Adam'):\n",
    "                    self.Adam(n=0)\n",
    "                if(X.shape[1]%num_complete_mini_batches!=0):\n",
    "                    mini_batch_X=X[:,(int(X.shape[1]/self.mini_batch_size)*self.mini_batch_size):]\n",
    "                    mini_batch_Y=Y[:,(int(Y.shape[1]/self.mini_batch_size)*self.mini_batch_size):]\n",
    "                    AL,caches=self.forward_prop(mini_batch_X)\n",
    "                    cost=self.sparse_categorical_cross_entropy(AL,mini_batch_Y)\n",
    "                    self.backward_prop(mini_batch_X,mini_batch_Y,caches)\n",
    "                    if(optimizer=='gradient_descent'):\n",
    "                        self.gradient_descent()\n",
    "                    elif(optimizer=='momentum'):\n",
    "                        self.gradient_descent_with_momentum()\n",
    "                    elif(optimizer=='RMSprop'):\n",
    "                        self.RMSprop()\n",
    "                    elif(optimizer=='Adam'):\n",
    "                        self.Adam(n=0)\n",
    "            self.J_hist.append(cost)\n",
    "            print(f'Cost after epoch {i+1}: {cost}')\n",
    "\n",
    "    def prediction(self,X):\n",
    "        AL=self.forward_prop(X)[0]\n",
    "        y_pred=np.argmax(AL,axis=0)\n",
    "        return y_pred   \n",
    "\n",
    "    def plot_cost(self):\n",
    "        plot_x=np.arange(len(self.J_hist))\n",
    "        plot_y=np.array(self.J_hist)\n",
    "        plt.plot(plot_x,plot_y)\n",
    "        plt.xlabel(\"No. of epochs\")\n",
    "        plt.ylabel(\"Cost\")\n",
    "\n",
    "    def confusion_matrix(self,y_pred,y):\n",
    "        tp=np.sum((y_pred==1)&(y==1))\n",
    "        tn=np.sum((y_pred==0)&(y==0))\n",
    "        fp=np.sum((y_pred==1)&(y==0))\n",
    "        fn=np.sum((y_pred==0)&(y==1))\n",
    "        cmat=np.array([[tp,fp],[fn,tn]])\n",
    "        return cmat\n",
    "\n",
    "    def accuracy_one_hot(self,y_pred,y):\n",
    "        c=self.confusion_matrix(y_pred,y)\n",
    "        tp=c[0,0]\n",
    "        tn=c[1,1]\n",
    "        fp=c[0,1]\n",
    "        fn=c[1,0]\n",
    "        accuracy=(tp+tn)/(tp+tn+fp+fn)\n",
    "        return accuracy\n",
    "\n",
    "    def F1_score(self,y_pred,y):\n",
    "        c=self.confusion_matrix(y_pred,y)\n",
    "        tp=c[0,0]\n",
    "        tn=c[1,1]\n",
    "        fp=c[0,1]\n",
    "        fn=c[1,0]\n",
    "        precision=tp/(tp+fp)\n",
    "        recall=tp/(tp+fn)\n",
    "        F1=(2*precision*recall)/(precision+recall)\n",
    "        return F1\n",
    "\n",
    "    def accuracy(self,y_pred,y):\n",
    "        accuracy=np.sum(y_pred==y)/y.shape[0]\n",
    "        return accuracy"
   ]
  },
  {
   "cell_type": "code",
   "execution_count": 3,
   "id": "19f48fc7-f6cf-4ada-b7b4-fcd53e333193",
   "metadata": {},
   "outputs": [
    {
     "data": {
      "text/html": [
       "<div>\n",
       "<style scoped>\n",
       "    .dataframe tbody tr th:only-of-type {\n",
       "        vertical-align: middle;\n",
       "    }\n",
       "\n",
       "    .dataframe tbody tr th {\n",
       "        vertical-align: top;\n",
       "    }\n",
       "\n",
       "    .dataframe thead th {\n",
       "        text-align: right;\n",
       "    }\n",
       "</style>\n",
       "<table border=\"1\" class=\"dataframe\">\n",
       "  <thead>\n",
       "    <tr style=\"text-align: right;\">\n",
       "      <th></th>\n",
       "      <th>label</th>\n",
       "      <th>pixel0</th>\n",
       "      <th>pixel1</th>\n",
       "      <th>pixel2</th>\n",
       "      <th>pixel3</th>\n",
       "      <th>pixel4</th>\n",
       "      <th>pixel5</th>\n",
       "      <th>pixel6</th>\n",
       "      <th>pixel7</th>\n",
       "      <th>pixel8</th>\n",
       "      <th>...</th>\n",
       "      <th>pixel774</th>\n",
       "      <th>pixel775</th>\n",
       "      <th>pixel776</th>\n",
       "      <th>pixel777</th>\n",
       "      <th>pixel778</th>\n",
       "      <th>pixel779</th>\n",
       "      <th>pixel780</th>\n",
       "      <th>pixel781</th>\n",
       "      <th>pixel782</th>\n",
       "      <th>pixel783</th>\n",
       "    </tr>\n",
       "  </thead>\n",
       "  <tbody>\n",
       "    <tr>\n",
       "      <th>0</th>\n",
       "      <td>0</td>\n",
       "      <td>0</td>\n",
       "      <td>0</td>\n",
       "      <td>0</td>\n",
       "      <td>0</td>\n",
       "      <td>0</td>\n",
       "      <td>0</td>\n",
       "      <td>0</td>\n",
       "      <td>0</td>\n",
       "      <td>0</td>\n",
       "      <td>...</td>\n",
       "      <td>0</td>\n",
       "      <td>0</td>\n",
       "      <td>0</td>\n",
       "      <td>0</td>\n",
       "      <td>0</td>\n",
       "      <td>0</td>\n",
       "      <td>0</td>\n",
       "      <td>0</td>\n",
       "      <td>0</td>\n",
       "      <td>0</td>\n",
       "    </tr>\n",
       "    <tr>\n",
       "      <th>1</th>\n",
       "      <td>8</td>\n",
       "      <td>0</td>\n",
       "      <td>0</td>\n",
       "      <td>0</td>\n",
       "      <td>0</td>\n",
       "      <td>0</td>\n",
       "      <td>0</td>\n",
       "      <td>0</td>\n",
       "      <td>0</td>\n",
       "      <td>0</td>\n",
       "      <td>...</td>\n",
       "      <td>0</td>\n",
       "      <td>0</td>\n",
       "      <td>0</td>\n",
       "      <td>0</td>\n",
       "      <td>0</td>\n",
       "      <td>0</td>\n",
       "      <td>0</td>\n",
       "      <td>0</td>\n",
       "      <td>0</td>\n",
       "      <td>0</td>\n",
       "    </tr>\n",
       "    <tr>\n",
       "      <th>2</th>\n",
       "      <td>1</td>\n",
       "      <td>0</td>\n",
       "      <td>0</td>\n",
       "      <td>0</td>\n",
       "      <td>0</td>\n",
       "      <td>0</td>\n",
       "      <td>0</td>\n",
       "      <td>0</td>\n",
       "      <td>0</td>\n",
       "      <td>0</td>\n",
       "      <td>...</td>\n",
       "      <td>0</td>\n",
       "      <td>0</td>\n",
       "      <td>0</td>\n",
       "      <td>0</td>\n",
       "      <td>0</td>\n",
       "      <td>0</td>\n",
       "      <td>0</td>\n",
       "      <td>0</td>\n",
       "      <td>0</td>\n",
       "      <td>0</td>\n",
       "    </tr>\n",
       "    <tr>\n",
       "      <th>3</th>\n",
       "      <td>7</td>\n",
       "      <td>0</td>\n",
       "      <td>0</td>\n",
       "      <td>0</td>\n",
       "      <td>0</td>\n",
       "      <td>0</td>\n",
       "      <td>0</td>\n",
       "      <td>0</td>\n",
       "      <td>0</td>\n",
       "      <td>0</td>\n",
       "      <td>...</td>\n",
       "      <td>0</td>\n",
       "      <td>0</td>\n",
       "      <td>0</td>\n",
       "      <td>0</td>\n",
       "      <td>0</td>\n",
       "      <td>0</td>\n",
       "      <td>0</td>\n",
       "      <td>0</td>\n",
       "      <td>0</td>\n",
       "      <td>0</td>\n",
       "    </tr>\n",
       "    <tr>\n",
       "      <th>4</th>\n",
       "      <td>7</td>\n",
       "      <td>0</td>\n",
       "      <td>0</td>\n",
       "      <td>0</td>\n",
       "      <td>0</td>\n",
       "      <td>0</td>\n",
       "      <td>0</td>\n",
       "      <td>0</td>\n",
       "      <td>0</td>\n",
       "      <td>0</td>\n",
       "      <td>...</td>\n",
       "      <td>0</td>\n",
       "      <td>0</td>\n",
       "      <td>0</td>\n",
       "      <td>0</td>\n",
       "      <td>0</td>\n",
       "      <td>0</td>\n",
       "      <td>0</td>\n",
       "      <td>0</td>\n",
       "      <td>0</td>\n",
       "      <td>0</td>\n",
       "    </tr>\n",
       "  </tbody>\n",
       "</table>\n",
       "<p>5 rows × 785 columns</p>\n",
       "</div>"
      ],
      "text/plain": [
       "   label  pixel0  pixel1  pixel2  pixel3  pixel4  pixel5  pixel6  pixel7  \\\n",
       "0      0       0       0       0       0       0       0       0       0   \n",
       "1      8       0       0       0       0       0       0       0       0   \n",
       "2      1       0       0       0       0       0       0       0       0   \n",
       "3      7       0       0       0       0       0       0       0       0   \n",
       "4      7       0       0       0       0       0       0       0       0   \n",
       "\n",
       "   pixel8  ...  pixel774  pixel775  pixel776  pixel777  pixel778  pixel779  \\\n",
       "0       0  ...         0         0         0         0         0         0   \n",
       "1       0  ...         0         0         0         0         0         0   \n",
       "2       0  ...         0         0         0         0         0         0   \n",
       "3       0  ...         0         0         0         0         0         0   \n",
       "4       0  ...         0         0         0         0         0         0   \n",
       "\n",
       "   pixel780  pixel781  pixel782  pixel783  \n",
       "0         0         0         0         0  \n",
       "1         0         0         0         0  \n",
       "2         0         0         0         0  \n",
       "3         0         0         0         0  \n",
       "4         0         0         0         0  \n",
       "\n",
       "[5 rows x 785 columns]"
      ]
     },
     "execution_count": 3,
     "metadata": {},
     "output_type": "execute_result"
    }
   ],
   "source": [
    "train_data=pd.read_csv('Classification_train.csv')\n",
    "train_data.head()"
   ]
  },
  {
   "cell_type": "code",
   "execution_count": 137,
   "id": "8a0cd807-b0eb-409e-b43d-8cc1fd92ab61",
   "metadata": {},
   "outputs": [],
   "source": [
    "np.random.seed(420)"
   ]
  },
  {
   "cell_type": "code",
   "execution_count": 138,
   "id": "6502c5ce-7461-4916-b237-76a12fcb53cf",
   "metadata": {},
   "outputs": [],
   "source": [
    "NN=Neural_Network(train_data,r1=0.8,r2=0.1,layer_dims=[784,512,256,128,10])"
   ]
  },
  {
   "cell_type": "code",
   "execution_count": 20,
   "id": "72d314e3-8abb-4eec-aa12-f20411d86192",
   "metadata": {},
   "outputs": [
    {
     "data": {
      "image/png": "[encoded data removed]",
      "text/plain": [
       "<Figure size 10000x1000 with 15 Axes>"
      ]
     },
     "metadata": {},
     "output_type": "display_data"
    }
   ],
   "source": [
    "fig,axis=plt.subplots(ncols=15,figsize=(100,10))\n",
    "for i in range(15):\n",
    "    image=np.array(NN.X_train[:,i],dtype=float)\n",
    "    pxl =image.reshape((28, 28))\n",
    "    axis[i].imshow(pxl, cmap='gray')"
   ]
  },
  {
   "cell_type": "code",
   "execution_count": 139,
   "id": "80bf1ddf-0662-4777-9bea-3ed3221bae20",
   "metadata": {},
   "outputs": [
    {
     "name": "stdout",
     "output_type": "stream",
     "text": [
      "Initial Cost: 4.757739175084508\n",
      "Cost after epoch 1: 0.03620407907272781\n",
      "Cost after epoch 2: 0.0023180535847824348\n",
      "Cost after epoch 3: 0.0010073157810963807\n",
      "Cost after epoch 4: 0.0004206583514310204\n",
      "Cost after epoch 5: 0.0011599035774297031\n",
      "Cost after epoch 6: 0.0005706943721332389\n",
      "Cost after epoch 7: 0.0005378396417725278\n",
      "Cost after epoch 8: 0.000877531348242334\n",
      "Cost after epoch 9: 0.0001064011825024477\n",
      "Cost after epoch 10: 0.0011234247713245691\n",
      "Cost after epoch 11: 8.828228246847808e-05\n",
      "Cost after epoch 12: 3.215461716832833e-05\n",
      "Cost after epoch 13: 3.6298492573758587e-05\n",
      "Cost after epoch 14: 2.0139466178791995e-05\n",
      "Cost after epoch 15: 0.028319875571114317\n",
      "Cost after epoch 16: 6.14599034728637e-05\n",
      "Cost after epoch 17: 8.716731957624725e-05\n",
      "Cost after epoch 18: 0.00063503544153592\n",
      "Cost after epoch 19: 4.410785101449471e-05\n",
      "Cost after epoch 20: 4.460522617591503e-05\n",
      "Cost after epoch 21: 0.00012287972319163632\n",
      "Cost after epoch 22: 4.973440819150726e-06\n",
      "Cost after epoch 23: 5.5203400372142695e-06\n",
      "Cost after epoch 24: 2.8512574389599432e-05\n",
      "Cost after epoch 25: 9.910229841103437e-06\n",
      "Cost after epoch 26: 0.0006189288642745581\n",
      "Cost after epoch 27: 0.000123936272497051\n",
      "Cost after epoch 28: 2.1721702744909527e-05\n",
      "Cost after epoch 29: 1.1487934256809553e-05\n",
      "Cost after epoch 30: 7.275901119993924e-06\n",
      "Cost after epoch 31: 1.641723148783819e-06\n",
      "Cost after epoch 32: 4.712211806780164e-07\n",
      "Cost after epoch 33: 2.336971946379272e-07\n",
      "Cost after epoch 34: 1.47146820714474e-07\n",
      "Cost after epoch 35: 9.888184462902656e-08\n",
      "Cost after epoch 36: 7.314443494437492e-08\n",
      "Cost after epoch 37: 5.4465418332928364e-08\n",
      "Cost after epoch 38: 4.387248558590205e-08\n",
      "Cost after epoch 39: 3.5881675649222566e-08\n",
      "Cost after epoch 40: 3.072643208661536e-08\n",
      "Cost after epoch 41: 2.61242166343553e-08\n",
      "Cost after epoch 42: 2.2179368823013407e-08\n",
      "Cost after epoch 43: 1.8558606923324538e-08\n",
      "Cost after epoch 44: 1.484934881143785e-08\n",
      "Cost after epoch 45: 1.2372698974475336e-08\n",
      "Cost after epoch 46: 9.995262465520644e-09\n",
      "Cost after epoch 47: 8.377104641701096e-09\n",
      "Cost after epoch 48: 6.885638483338761e-09\n",
      "Cost after epoch 49: 5.65060122522305e-09\n",
      "Cost after epoch 50: 4.64060035801099e-09\n"
     ]
    },
    {
     "data": {
      "image/png": "[encoded data removed]",
      "text/plain": [
       "<Figure size 640x480 with 1 Axes>"
      ]
     },
     "metadata": {},
     "output_type": "display_data"
    }
   ],
   "source": [
    "optimization=('Adam',0.9,0.999)\n",
    "NN.model(optimization,alpha=0.001,lambda_=0,alpha_decay=0,num_epochs=50,mini_batch_size=64)\n",
    "NN.plot_cost()"
   ]
  },
  {
   "cell_type": "code",
   "execution_count": 140,
   "id": "547508ab-b9e8-4a1b-937f-0971f30b0d13",
   "metadata": {},
   "outputs": [],
   "source": [
    "NN.ytrain_pred=NN.prediction(NN.X_train)\n",
    "NN.ycv_pred=NN.prediction(NN.X_cv)\n",
    "NN.ytest_pred=NN.prediction(NN.X_test)"
   ]
  },
  {
   "cell_type": "code",
   "execution_count": 141,
   "id": "e1e11586-8de6-4765-987f-a1769e0aed54",
   "metadata": {},
   "outputs": [
    {
     "name": "stdout",
     "output_type": "stream",
     "text": [
      "Accuracy for training dataset: 1.0\n"
     ]
    }
   ],
   "source": [
    "print(f'Accuracy for training dataset: {NN.accuracy(NN.ytrain_pred,NN.y_train)}')"
   ]
  },
  {
   "cell_type": "code",
   "execution_count": 142,
   "id": "274ed808-ed4b-4b4d-bf98-753fdbf3bc0f",
   "metadata": {},
   "outputs": [
    {
     "name": "stdout",
     "output_type": "stream",
     "text": [
      "Accuracy for cross validation dataset: 0.9916666666666667\n"
     ]
    }
   ],
   "source": [
    "print(f'Accuracy for cross validation dataset: {NN.accuracy(NN.ycv_pred,NN.y_cv)}')"
   ]
  },
  {
   "cell_type": "code",
   "execution_count": 143,
   "id": "46a8e028-6994-4a4a-be65-bfaf4b32c509",
   "metadata": {},
   "outputs": [
    {
     "name": "stdout",
     "output_type": "stream",
     "text": [
      "Accuracy for test dataset: 0.988\n"
     ]
    }
   ],
   "source": [
    "print(f'Accuracy for test dataset: {NN.accuracy(NN.ytest_pred,NN.y_test)}')"
   ]
  },
  {
   "cell_type": "code",
   "execution_count": 97,
   "id": "27c13e63-a4b0-4d0c-aaea-3ce4892ae641",
   "metadata": {},
   "outputs": [],
   "source": [
    "np.random.seed(420)\n",
    "NN1=Neural_Network(train_data,r1=0.8,r2=0.1,layer_dims=[784,512,256,128,10])"
   ]
  },
  {
   "cell_type": "code",
   "execution_count": 98,
   "id": "ea08f9d0-b8ca-4f1a-9fa6-f3c4a9981310",
   "metadata": {},
   "outputs": [
    {
     "name": "stdout",
     "output_type": "stream",
     "text": [
      "Initial Cost: 4.757739175084508\n",
      "Cost after epoch 1: 0.2482088820929391\n",
      "Cost after epoch 2: 0.06287701669460304\n",
      "Cost after epoch 3: 0.06910033658763445\n",
      "Cost after epoch 4: 0.04104753701364941\n",
      "Cost after epoch 5: 0.013498865094261975\n",
      "Cost after epoch 6: 0.021230691006121613\n",
      "Cost after epoch 7: 0.009120206117163927\n",
      "Cost after epoch 8: 0.02286148284081902\n",
      "Cost after epoch 9: 0.01759357628214979\n",
      "Cost after epoch 10: 0.010060267519226852\n"
     ]
    }
   ],
   "source": [
    "optimization=('RMSprop',0.999)\n",
    "NN1.model(optimization,alpha=0.1,lambda_=0,alpha_decay=0,num_epochs=10,mini_batch_size=64)"
   ]
  },
  {
   "cell_type": "code",
   "execution_count": 99,
   "id": "9138c242-84f0-4634-ac2b-0c044dc4f0b5",
   "metadata": {},
   "outputs": [],
   "source": [
    "NN1.ytrain_pred=NN1.prediction(NN1.X_train)\n",
    "NN1.ycv_pred=NN1.prediction(NN1.X_cv)\n",
    "NN1.ytest_pred=NN1.prediction(NN1.X_test)"
   ]
  },
  {
   "cell_type": "code",
   "execution_count": 100,
   "id": "bbd46ddb-674f-46eb-8230-986e0de2a4bb",
   "metadata": {},
   "outputs": [
    {
     "name": "stdout",
     "output_type": "stream",
     "text": [
      "Accuracy for cross validation dataset: 0.983\n"
     ]
    }
   ],
   "source": [
    "print(f'Accuracy for cross validation dataset: {NN1.accuracy(NN1.ycv_pred,NN1.y_cv)}')"
   ]
  },
  {
   "cell_type": "code",
   "execution_count": 44,
   "id": "f1b88bdc-d372-49e1-8d0b-f86119c6dafd",
   "metadata": {},
   "outputs": [],
   "source": [
    "np.random.seed(420)\n",
    "NN2=Neural_Network(train_data,r1=0.8,r2=0.1,layer_dims=[784,512,256,128,10])"
   ]
  },
  {
   "cell_type": "code",
   "execution_count": 45,
   "id": "5197cdb8-59b2-449b-b0c9-6eb72ff4e5ed",
   "metadata": {},
   "outputs": [
    {
     "name": "stdout",
     "output_type": "stream",
     "text": [
      "Initial Cost: 4.757739175084508\n",
      "Cost after epoch 1: 0.06316749570541098\n",
      "Cost after epoch 2: 0.04621606769107119\n",
      "Cost after epoch 3: 0.0017593883197558802\n",
      "Cost after epoch 4: 0.0007858960627486604\n",
      "Cost after epoch 5: 0.00036872905197113875\n",
      "Cost after epoch 6: 0.22198286955269464\n",
      "Cost after epoch 7: 0.00026255472449348866\n",
      "Cost after epoch 8: 0.0003108302982371601\n",
      "Cost after epoch 9: 9.589670526912113e-05\n",
      "Cost after epoch 10: 3.8094714972216703e-05\n",
      "Cost after epoch 11: 3.1536046244859454e-05\n",
      "Cost after epoch 12: 2.1374474776660907e-05\n",
      "Cost after epoch 13: 1.796181422620752e-05\n",
      "Cost after epoch 14: 1.563408981016753e-05\n",
      "Cost after epoch 15: 1.3924231238816951e-05\n",
      "Cost after epoch 16: 1.2628731311156006e-05\n",
      "Cost after epoch 17: 1.1553132147338817e-05\n",
      "Cost after epoch 18: 1.0688515128998783e-05\n",
      "Cost after epoch 19: 9.9186526022719e-06\n",
      "Cost after epoch 20: 9.295430614546684e-06\n",
      "Cost after epoch 21: 8.744744153852847e-06\n",
      "Cost after epoch 22: 8.25975947632531e-06\n",
      "Cost after epoch 23: 7.835054779453114e-06\n",
      "Cost after epoch 24: 7.45704638239497e-06\n",
      "Cost after epoch 25: 7.12392251400785e-06\n",
      "Cost after epoch 26: 6.8267480964079414e-06\n",
      "Cost after epoch 27: 6.548441297013799e-06\n",
      "Cost after epoch 28: 6.301333782271016e-06\n",
      "Cost after epoch 29: 6.071951511573868e-06\n",
      "Cost after epoch 30: 5.86370664369781e-06\n"
     ]
    }
   ],
   "source": [
    "optimization=('momentum',0.9)\n",
    "NN2.model(optimization,alpha=0.5,lambda_=0,alpha_decay=0,num_epochs=30,mini_batch_size=64)"
   ]
  },
  {
   "cell_type": "code",
   "execution_count": 144,
   "id": "4ec4852b-6563-4df3-924c-7e21a6f6a80e",
   "metadata": {},
   "outputs": [
    {
     "data": {
      "image/png": "[encoded data removed]",
      "text/plain": [
       "<Figure size 640x480 with 1 Axes>"
      ]
     },
     "metadata": {},
     "output_type": "display_data"
    }
   ],
   "source": [
    "NN2.plot_cost()"
   ]
  },
  {
   "cell_type": "code",
   "execution_count": 46,
   "id": "833c12cc-0c13-4fdd-870f-501e4782bf11",
   "metadata": {},
   "outputs": [],
   "source": [
    "NN2.ytrain_pred=NN2.prediction(NN2.X_train)\n",
    "NN2.ycv_pred=NN2.prediction(NN2.X_cv)\n",
    "NN2.ytest_pred=NN2.prediction(NN2.X_test)"
   ]
  },
  {
   "cell_type": "code",
   "execution_count": 47,
   "id": "1b0f2f44-94ce-4f24-9dad-0a57bbbf5bb5",
   "metadata": {},
   "outputs": [
    {
     "name": "stdout",
     "output_type": "stream",
     "text": [
      "Accuracy for cross validation dataset: 0.992\n"
     ]
    }
   ],
   "source": [
    "print(f'Accuracy for cross validation dataset: {NN2.accuracy(NN2.ycv_pred,NN2.y_cv)}')"
   ]
  },
  {
   "cell_type": "code",
   "execution_count": 57,
   "id": "dce732aa-ad97-48aa-8c7c-fe76f3f642b3",
   "metadata": {},
   "outputs": [
    {
     "name": "stdout",
     "output_type": "stream",
     "text": [
      "Accuracy for test dataset: 0.989\n"
     ]
    }
   ],
   "source": [
    "print(f'Accuracy for test dataset: {NN2.accuracy(NN2.ytest_pred,NN2.y_test)}')"
   ]
  },
  {
   "cell_type": "code",
   "execution_count": 61,
   "id": "fbd1ea50-5261-454d-8170-2a2fcd1a37cf",
   "metadata": {},
   "outputs": [],
   "source": [
    "np.random.seed(420)\n",
    "NN3=Neural_Network(train_data,r1=0.8,r2=0.1,layer_dims=[784,512,256,128,10])"
   ]
  },
  {
   "cell_type": "code",
   "execution_count": 62,
   "id": "0c02637e-9d57-41a0-8122-02fd4c72fdee",
   "metadata": {},
   "outputs": [
    {
     "name": "stdout",
     "output_type": "stream",
     "text": [
      "Initial Cost: 4.757739175084508\n",
      "Cost after epoch 1: 0.06316749570541098\n",
      "Cost after epoch 2: 0.04621606769107119\n",
      "Cost after epoch 3: 0.0017593883197558802\n",
      "Cost after epoch 4: 0.0007858960627486604\n",
      "Cost after epoch 5: 0.00036872905197113875\n",
      "Cost after epoch 6: 0.22198286955269464\n",
      "Cost after epoch 7: 0.00026255472449348866\n",
      "Cost after epoch 8: 0.0003108302982371601\n",
      "Cost after epoch 9: 9.589670526912113e-05\n",
      "Cost after epoch 10: 3.8094714972216703e-05\n",
      "Cost after epoch 11: 3.1536046244859454e-05\n",
      "Cost after epoch 12: 2.1374474776660907e-05\n",
      "Cost after epoch 13: 1.796181422620752e-05\n",
      "Cost after epoch 14: 1.563408981016753e-05\n",
      "Cost after epoch 15: 1.3924231238816951e-05\n",
      "Cost after epoch 16: 1.2628731311156006e-05\n",
      "Cost after epoch 17: 1.1553132147338817e-05\n",
      "Cost after epoch 18: 1.0688515128998783e-05\n",
      "Cost after epoch 19: 9.9186526022719e-06\n",
      "Cost after epoch 20: 9.295430614546684e-06\n",
      "Cost after epoch 21: 8.744744153852847e-06\n",
      "Cost after epoch 22: 8.25975947632531e-06\n",
      "Cost after epoch 23: 7.835054779453114e-06\n",
      "Cost after epoch 24: 7.45704638239497e-06\n",
      "Cost after epoch 25: 7.12392251400785e-06\n",
      "Cost after epoch 26: 6.8267480964079414e-06\n",
      "Cost after epoch 27: 6.548441297013799e-06\n",
      "Cost after epoch 28: 6.301333782271016e-06\n",
      "Cost after epoch 29: 6.071951511573868e-06\n",
      "Cost after epoch 30: 5.86370664369781e-06\n",
      "Cost after epoch 31: 5.663951408428943e-06\n",
      "Cost after epoch 32: 5.486153523847809e-06\n",
      "Cost after epoch 33: 5.312857442159524e-06\n",
      "Cost after epoch 34: 5.153545760958089e-06\n",
      "Cost after epoch 35: 5.006867390753015e-06\n",
      "Cost after epoch 36: 4.862654405427976e-06\n",
      "Cost after epoch 37: 4.732838498246173e-06\n",
      "Cost after epoch 38: 4.606136325453943e-06\n",
      "Cost after epoch 39: 4.4943183917050455e-06\n",
      "Cost after epoch 40: 4.3857696646509995e-06\n",
      "Cost after epoch 41: 4.2867561918232374e-06\n",
      "Cost after epoch 42: 4.190314142495878e-06\n",
      "Cost after epoch 43: 4.101552873971289e-06\n",
      "Cost after epoch 44: 4.018982020530968e-06\n",
      "Cost after epoch 45: 3.936625901159862e-06\n",
      "Cost after epoch 46: 3.863950896238428e-06\n",
      "Cost after epoch 47: 3.7891743315304915e-06\n",
      "Cost after epoch 48: 3.716634713317433e-06\n",
      "Cost after epoch 49: 3.643572810217492e-06\n",
      "Cost after epoch 50: 3.577013312837044e-06\n",
      "Cost after epoch 51: 3.5112938011641165e-06\n",
      "Cost after epoch 52: 3.4490103212385118e-06\n",
      "Cost after epoch 53: 3.3865187412348897e-06\n",
      "Cost after epoch 54: 3.3292714425013694e-06\n",
      "Cost after epoch 55: 3.2750689455516875e-06\n",
      "Cost after epoch 56: 3.2190274211290983e-06\n",
      "Cost after epoch 57: 3.1664126086246185e-06\n",
      "Cost after epoch 58: 3.1151625754118754e-06\n",
      "Cost after epoch 59: 3.06570877109443e-06\n",
      "Cost after epoch 60: 3.0181845787251275e-06\n",
      "Cost after epoch 61: 2.9739789914322324e-06\n",
      "Cost after epoch 62: 2.9299165691421973e-06\n",
      "Cost after epoch 63: 2.887279967384919e-06\n",
      "Cost after epoch 64: 2.8475347463562933e-06\n",
      "Cost after epoch 65: 2.8058706823815988e-06\n",
      "Cost after epoch 66: 2.769212794142005e-06\n",
      "Cost after epoch 67: 2.7315362349775065e-06\n",
      "Cost after epoch 68: 2.6958191222990706e-06\n",
      "Cost after epoch 69: 2.6585413467373895e-06\n",
      "Cost after epoch 70: 2.624484779037464e-06\n",
      "Cost after epoch 71: 2.5909939312112927e-06\n",
      "Cost after epoch 72: 2.558317500173272e-06\n",
      "Cost after epoch 73: 2.5257317187866373e-06\n",
      "Cost after epoch 74: 2.4947881227005904e-06\n",
      "Cost after epoch 75: 2.4665620446771768e-06\n",
      "Cost after epoch 76: 2.439037549566606e-06\n",
      "Cost after epoch 77: 2.4115088613345577e-06\n",
      "Cost after epoch 78: 2.3848295469865857e-06\n",
      "Cost after epoch 79: 2.3582612611947997e-06\n",
      "Cost after epoch 80: 2.332459267981373e-06\n",
      "Cost after epoch 81: 2.3064796338704652e-06\n",
      "Cost after epoch 82: 2.282098295840333e-06\n",
      "Cost after epoch 83: 2.257738696669835e-06\n",
      "Cost after epoch 84: 2.2353871589860857e-06\n",
      "Cost after epoch 85: 2.2127330150908934e-06\n",
      "Cost after epoch 86: 2.192128657158857e-06\n",
      "Cost after epoch 87: 2.1701101996432085e-06\n",
      "Cost after epoch 88: 2.1498982663972998e-06\n",
      "Cost after epoch 89: 2.128861827890492e-06\n",
      "Cost after epoch 90: 2.1108979816191546e-06\n",
      "Cost after epoch 91: 2.0916398890345295e-06\n",
      "Cost after epoch 92: 2.073369830184339e-06\n",
      "Cost after epoch 93: 2.054408882358104e-06\n",
      "Cost after epoch 94: 2.0367621560075116e-06\n",
      "Cost after epoch 95: 2.0177822488320675e-06\n",
      "Cost after epoch 96: 1.999067858597469e-06\n",
      "Cost after epoch 97: 1.980741445661992e-06\n",
      "Cost after epoch 98: 1.963475839307998e-06\n",
      "Cost after epoch 99: 1.945551269873511e-06\n",
      "Cost after epoch 100: 1.9293044266937916e-06\n"
     ]
    }
   ],
   "source": [
    "optimization=('momentum',0.9)\n",
    "NN3.model(optimization,alpha=0.5,lambda_=0,alpha_decay=0,num_epochs=100,mini_batch_size=64)"
   ]
  },
  {
   "cell_type": "code",
   "execution_count": 145,
   "id": "6abe8410-e5a6-4e42-9675-f9756a4a6348",
   "metadata": {},
   "outputs": [
    {
     "data": {
      "image/png": "[encoded data removed]",
      "text/plain": [
       "<Figure size 640x480 with 1 Axes>"
      ]
     },
     "metadata": {},
     "output_type": "display_data"
    }
   ],
   "source": [
    "NN3.plot_cost()"
   ]
  },
  {
   "cell_type": "code",
   "execution_count": 63,
   "id": "bc2f32a0-215a-45e9-b890-90b123b68246",
   "metadata": {},
   "outputs": [],
   "source": [
    "NN3.ytrain_pred=NN3.prediction(NN3.X_train)\n",
    "NN3.ycv_pred=NN3.prediction(NN3.X_cv)\n",
    "NN3.ytest_pred=NN3.prediction(NN3.X_test)"
   ]
  },
  {
   "cell_type": "code",
   "execution_count": 64,
   "id": "60d2a9b7-41a2-4163-af56-b6463077dba5",
   "metadata": {},
   "outputs": [
    {
     "name": "stdout",
     "output_type": "stream",
     "text": [
      "Accuracy for cross validation dataset: 0.9923333333333333\n"
     ]
    }
   ],
   "source": [
    "print(f'Accuracy for cross validation dataset: {NN3.accuracy(NN3.ycv_pred,NN3.y_cv)}')"
   ]
  },
  {
   "cell_type": "code",
   "execution_count": 65,
   "id": "6a0b870f-2ef8-4f3f-80c3-938a7766dfb3",
   "metadata": {},
   "outputs": [
    {
     "name": "stdout",
     "output_type": "stream",
     "text": [
      "Accuracy for test dataset: 0.9893333333333333\n"
     ]
    }
   ],
   "source": [
    "print(f'Accuracy for test dataset: {NN3.accuracy(NN3.ytest_pred,NN3.y_test)}')"
   ]
  },
  {
   "cell_type": "code",
   "execution_count": 126,
   "id": "cbb46af7-2aa2-4316-9d64-a08d96ff5882",
   "metadata": {},
   "outputs": [],
   "source": [
    "np.random.seed(420)\n",
    "NN4=Neural_Network(train_data,r1=0.8,r2=0.1,layer_dims=[784,512,256,128,10])"
   ]
  },
  {
   "cell_type": "code",
   "execution_count": 127,
   "id": "fc753a2f-ac6a-4b6e-8cc7-9169298ccc53",
   "metadata": {},
   "outputs": [
    {
     "name": "stdout",
     "output_type": "stream",
     "text": [
      "Initial Cost: 4.757739175084508\n",
      "Cost after epoch 1: 0.05100252949054107\n",
      "Cost after epoch 2: 0.015373665484578126\n",
      "Cost after epoch 3: 0.013199259533835798\n",
      "Cost after epoch 4: 0.006977509535614068\n",
      "Cost after epoch 5: 0.0013421169171064181\n",
      "Cost after epoch 6: 0.0016064835987302474\n",
      "Cost after epoch 7: 0.0006337789302026789\n",
      "Cost after epoch 8: 0.00023489325202551145\n",
      "Cost after epoch 9: 0.00016252690532821042\n",
      "Cost after epoch 10: 0.00011669938950109056\n",
      "Cost after epoch 11: 9.54324486474864e-05\n",
      "Cost after epoch 12: 8.34138524950052e-05\n",
      "Cost after epoch 13: 7.493355277080806e-05\n",
      "Cost after epoch 14: 6.623228205995993e-05\n",
      "Cost after epoch 15: 6.132684462089871e-05\n",
      "Cost after epoch 16: 5.6184815540549016e-05\n",
      "Cost after epoch 17: 5.295450395726502e-05\n",
      "Cost after epoch 18: 4.97764542741283e-05\n",
      "Cost after epoch 19: 4.6199610408422365e-05\n",
      "Cost after epoch 20: 4.397317087874856e-05\n",
      "Cost after epoch 21: 4.132362478617768e-05\n",
      "Cost after epoch 22: 3.920290433552651e-05\n",
      "Cost after epoch 23: 3.692137668404738e-05\n",
      "Cost after epoch 24: 3.550569633635832e-05\n",
      "Cost after epoch 25: 3.362489718730882e-05\n",
      "Cost after epoch 26: 3.2752616549700455e-05\n",
      "Cost after epoch 27: 3.109802947227051e-05\n",
      "Cost after epoch 28: 3.0048001489657377e-05\n",
      "Cost after epoch 29: 2.913862024970442e-05\n",
      "Cost after epoch 30: 2.7563676415609464e-05\n",
      "Cost after epoch 31: 2.6983040995066183e-05\n",
      "Cost after epoch 32: 2.5902582986315856e-05\n",
      "Cost after epoch 33: 2.5078707122949746e-05\n",
      "Cost after epoch 34: 2.4269819017312887e-05\n",
      "Cost after epoch 35: 2.357196932049924e-05\n",
      "Cost after epoch 36: 2.2803978919179104e-05\n",
      "Cost after epoch 37: 2.219242408243145e-05\n",
      "Cost after epoch 38: 2.1494540731558333e-05\n",
      "Cost after epoch 39: 2.1012236447167335e-05\n",
      "Cost after epoch 40: 2.034263815949632e-05\n",
      "Cost after epoch 41: 2.0051154742822273e-05\n",
      "Cost after epoch 42: 1.9417112562529333e-05\n",
      "Cost after epoch 43: 1.9022695071428475e-05\n",
      "Cost after epoch 44: 1.8510628017905052e-05\n",
      "Cost after epoch 45: 1.8099091573374728e-05\n",
      "Cost after epoch 46: 1.7676096398094674e-05\n",
      "Cost after epoch 47: 1.7313195997092625e-05\n",
      "Cost after epoch 48: 1.6960536916274658e-05\n",
      "Cost after epoch 49: 1.649191737118664e-05\n",
      "Cost after epoch 50: 1.6326722503222766e-05\n"
     ]
    }
   ],
   "source": [
    "optimization=('gradient_descent',)\n",
    "NN4.model(optimization,alpha=0.25,lambda_=0,alpha_decay=0,num_epochs=50,mini_batch_size=64)"
   ]
  },
  {
   "cell_type": "code",
   "execution_count": 136,
   "id": "02d4a402-02c1-442e-a86d-bd02968ba41f",
   "metadata": {},
   "outputs": [
    {
     "data": {
      "image/png": "[encoded data removed]",
      "text/plain": [
       "<Figure size 640x480 with 1 Axes>"
      ]
     },
     "metadata": {},
     "output_type": "display_data"
    }
   ],
   "source": [
    "NN4.plot_cost()"
   ]
  },
  {
   "cell_type": "code",
   "execution_count": 128,
   "id": "95b247cd-590b-48cd-b327-f24af45e1989",
   "metadata": {},
   "outputs": [],
   "source": [
    "NN4.ytrain_pred=NN4.prediction(NN4.X_train)\n",
    "NN4.ycv_pred=NN4.prediction(NN4.X_cv)\n",
    "NN4.ytest_pred=NN4.prediction(NN4.X_test)"
   ]
  },
  {
   "cell_type": "code",
   "execution_count": 130,
   "id": "35d30b66-2b6e-45d7-9316-86afc9cd2e89",
   "metadata": {},
   "outputs": [
    {
     "name": "stdout",
     "output_type": "stream",
     "text": [
      "Accuracy for training dataset: 1.0\n"
     ]
    }
   ],
   "source": [
    "print(f'Accuracy for training dataset: {NN4.accuracy(NN4.ytrain_pred,NN4.y_train)}')"
   ]
  },
  {
   "cell_type": "code",
   "execution_count": 129,
   "id": "bdc3cb13-caf6-4c8f-a0ca-24c7239d7353",
   "metadata": {},
   "outputs": [
    {
     "name": "stdout",
     "output_type": "stream",
     "text": [
      "Accuracy for cross validation dataset: 0.9886666666666667\n"
     ]
    }
   ],
   "source": [
    "print(f'Accuracy for cross validation dataset: {NN4.accuracy(NN4.ycv_pred,NN4.y_cv)}')"
   ]
  },
  {
   "cell_type": "code",
   "execution_count": 131,
   "id": "bb28a33f-0308-4d76-b8e5-dffd7f0d4b80",
   "metadata": {},
   "outputs": [
    {
     "name": "stdout",
     "output_type": "stream",
     "text": [
      "Accuracy for test dataset: 0.989\n"
     ]
    }
   ],
   "source": [
    "print(f'Accuracy for test dataset: {NN4.accuracy(NN4.ytest_pred,NN4.y_test)}')"
   ]
  },
  {
   "cell_type": "code",
   "execution_count": 146,
   "id": "d1764e3e-5d6e-4725-a0f1-49e342cd2f53",
   "metadata": {},
   "outputs": [
    {
     "data": {
      "text/html": [
       "<div>\n",
       "<style scoped>\n",
       "    .dataframe tbody tr th:only-of-type {\n",
       "        vertical-align: middle;\n",
       "    }\n",
       "\n",
       "    .dataframe tbody tr th {\n",
       "        vertical-align: top;\n",
       "    }\n",
       "\n",
       "    .dataframe thead th {\n",
       "        text-align: right;\n",
       "    }\n",
       "</style>\n",
       "<table border=\"1\" class=\"dataframe\">\n",
       "  <thead>\n",
       "    <tr style=\"text-align: right;\">\n",
       "      <th></th>\n",
       "      <th>ID</th>\n",
       "      <th>pixel0</th>\n",
       "      <th>pixel1</th>\n",
       "      <th>pixel2</th>\n",
       "      <th>pixel3</th>\n",
       "      <th>pixel4</th>\n",
       "      <th>pixel5</th>\n",
       "      <th>pixel6</th>\n",
       "      <th>pixel7</th>\n",
       "      <th>pixel8</th>\n",
       "      <th>...</th>\n",
       "      <th>pixel774</th>\n",
       "      <th>pixel775</th>\n",
       "      <th>pixel776</th>\n",
       "      <th>pixel777</th>\n",
       "      <th>pixel778</th>\n",
       "      <th>pixel779</th>\n",
       "      <th>pixel780</th>\n",
       "      <th>pixel781</th>\n",
       "      <th>pixel782</th>\n",
       "      <th>pixel783</th>\n",
       "    </tr>\n",
       "  </thead>\n",
       "  <tbody>\n",
       "    <tr>\n",
       "      <th>0</th>\n",
       "      <td>15795</td>\n",
       "      <td>0</td>\n",
       "      <td>0</td>\n",
       "      <td>0</td>\n",
       "      <td>0</td>\n",
       "      <td>0</td>\n",
       "      <td>0</td>\n",
       "      <td>0</td>\n",
       "      <td>0</td>\n",
       "      <td>0</td>\n",
       "      <td>...</td>\n",
       "      <td>0</td>\n",
       "      <td>0</td>\n",
       "      <td>0</td>\n",
       "      <td>0</td>\n",
       "      <td>0</td>\n",
       "      <td>0</td>\n",
       "      <td>0</td>\n",
       "      <td>0</td>\n",
       "      <td>0</td>\n",
       "      <td>0</td>\n",
       "    </tr>\n",
       "    <tr>\n",
       "      <th>1</th>\n",
       "      <td>860</td>\n",
       "      <td>0</td>\n",
       "      <td>0</td>\n",
       "      <td>0</td>\n",
       "      <td>0</td>\n",
       "      <td>0</td>\n",
       "      <td>0</td>\n",
       "      <td>0</td>\n",
       "      <td>0</td>\n",
       "      <td>0</td>\n",
       "      <td>...</td>\n",
       "      <td>0</td>\n",
       "      <td>0</td>\n",
       "      <td>0</td>\n",
       "      <td>0</td>\n",
       "      <td>0</td>\n",
       "      <td>0</td>\n",
       "      <td>0</td>\n",
       "      <td>0</td>\n",
       "      <td>0</td>\n",
       "      <td>0</td>\n",
       "    </tr>\n",
       "    <tr>\n",
       "      <th>2</th>\n",
       "      <td>5390</td>\n",
       "      <td>0</td>\n",
       "      <td>0</td>\n",
       "      <td>0</td>\n",
       "      <td>0</td>\n",
       "      <td>0</td>\n",
       "      <td>0</td>\n",
       "      <td>0</td>\n",
       "      <td>0</td>\n",
       "      <td>0</td>\n",
       "      <td>...</td>\n",
       "      <td>0</td>\n",
       "      <td>0</td>\n",
       "      <td>0</td>\n",
       "      <td>0</td>\n",
       "      <td>0</td>\n",
       "      <td>0</td>\n",
       "      <td>0</td>\n",
       "      <td>0</td>\n",
       "      <td>0</td>\n",
       "      <td>0</td>\n",
       "    </tr>\n",
       "    <tr>\n",
       "      <th>3</th>\n",
       "      <td>11964</td>\n",
       "      <td>0</td>\n",
       "      <td>0</td>\n",
       "      <td>0</td>\n",
       "      <td>0</td>\n",
       "      <td>0</td>\n",
       "      <td>0</td>\n",
       "      <td>0</td>\n",
       "      <td>0</td>\n",
       "      <td>0</td>\n",
       "      <td>...</td>\n",
       "      <td>0</td>\n",
       "      <td>0</td>\n",
       "      <td>0</td>\n",
       "      <td>0</td>\n",
       "      <td>0</td>\n",
       "      <td>0</td>\n",
       "      <td>0</td>\n",
       "      <td>0</td>\n",
       "      <td>0</td>\n",
       "      <td>0</td>\n",
       "    </tr>\n",
       "    <tr>\n",
       "      <th>4</th>\n",
       "      <td>11284</td>\n",
       "      <td>0</td>\n",
       "      <td>0</td>\n",
       "      <td>0</td>\n",
       "      <td>0</td>\n",
       "      <td>0</td>\n",
       "      <td>0</td>\n",
       "      <td>0</td>\n",
       "      <td>0</td>\n",
       "      <td>0</td>\n",
       "      <td>...</td>\n",
       "      <td>0</td>\n",
       "      <td>0</td>\n",
       "      <td>0</td>\n",
       "      <td>0</td>\n",
       "      <td>0</td>\n",
       "      <td>0</td>\n",
       "      <td>0</td>\n",
       "      <td>0</td>\n",
       "      <td>0</td>\n",
       "      <td>0</td>\n",
       "    </tr>\n",
       "  </tbody>\n",
       "</table>\n",
       "<p>5 rows × 785 columns</p>\n",
       "</div>"
      ],
      "text/plain": [
       "      ID  pixel0  pixel1  pixel2  pixel3  pixel4  pixel5  pixel6  pixel7  \\\n",
       "0  15795       0       0       0       0       0       0       0       0   \n",
       "1    860       0       0       0       0       0       0       0       0   \n",
       "2   5390       0       0       0       0       0       0       0       0   \n",
       "3  11964       0       0       0       0       0       0       0       0   \n",
       "4  11284       0       0       0       0       0       0       0       0   \n",
       "\n",
       "   pixel8  ...  pixel774  pixel775  pixel776  pixel777  pixel778  pixel779  \\\n",
       "0       0  ...         0         0         0         0         0         0   \n",
       "1       0  ...         0         0         0         0         0         0   \n",
       "2       0  ...         0         0         0         0         0         0   \n",
       "3       0  ...         0         0         0         0         0         0   \n",
       "4       0  ...         0         0         0         0         0         0   \n",
       "\n",
       "   pixel780  pixel781  pixel782  pixel783  \n",
       "0         0         0         0         0  \n",
       "1         0         0         0         0  \n",
       "2         0         0         0         0  \n",
       "3         0         0         0         0  \n",
       "4         0         0         0         0  \n",
       "\n",
       "[5 rows x 785 columns]"
      ]
     },
     "execution_count": 146,
     "metadata": {},
     "output_type": "execute_result"
    }
   ],
   "source": [
    "test_data=pd.read_csv('Classification_test.csv')\n",
    "test_data.head()"
   ]
  },
  {
   "cell_type": "code",
   "execution_count": 150,
   "id": "556b047e-47cc-401e-979a-33778afedf6f",
   "metadata": {},
   "outputs": [],
   "source": [
    "test_x=test_data.iloc[:,1:].to_numpy().T"
   ]
  },
  {
   "cell_type": "code",
   "execution_count": 151,
   "id": "543fee0d-52f9-4e66-975c-e2ea108ac59d",
   "metadata": {},
   "outputs": [],
   "source": [
    "al=NN4.forward_prop(test_x/255)[0]"
   ]
  },
  {
   "cell_type": "code",
   "execution_count": 152,
   "id": "aa866c27-d6b9-4853-b9f7-ea6f1280a0c0",
   "metadata": {},
   "outputs": [],
   "source": [
    "test_y=np.argmax(al,axis=0)"
   ]
  },
  {
   "cell_type": "code",
   "execution_count": 154,
   "id": "6d121e1f-954b-452d-9109-fa4c9f915a45",
   "metadata": {},
   "outputs": [],
   "source": [
    "df = pd.DataFrame({'ID': test_data.iloc[:,0], 'label': test_y})\n",
    "df.to_csv('result_neural.csv')"
   ]
  },
  {
   "cell_type": "code",
   "execution_count": null,
   "id": "6a133a5d-2314-444c-97ad-2330efe0ed2c",
   "metadata": {},
   "outputs": [],
   "source": []
  }
 ],
 "metadata": {
  "kernelspec": {
   "display_name": "Python 3 (ipykernel)",
   "language": "python",
   "name": "python3"
  },
  "language_info": {
   "codemirror_mode": {
    "name": "ipython",
    "version": 3
   },
   "file_extension": ".py",
   "mimetype": "text/x-python",
   "name": "python",
   "nbconvert_exporter": "python",
   "pygments_lexer": "ipython3",
   "version": "3.11.5"
  }
 },
 "nbformat": 4,
 "nbformat_minor": 5
}
